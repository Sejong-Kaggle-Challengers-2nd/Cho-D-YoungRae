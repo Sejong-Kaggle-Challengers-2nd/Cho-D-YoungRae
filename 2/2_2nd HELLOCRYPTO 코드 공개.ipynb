{
 "metadata": {
  "language_info": {
   "codemirror_mode": {
    "name": "ipython",
    "version": 3
   },
   "file_extension": ".py",
   "mimetype": "text/x-python",
   "name": "python",
   "nbconvert_exporter": "python",
   "pygments_lexer": "ipython3",
   "version": "3.7.10-final"
  },
  "orig_nbformat": 2,
  "kernelspec": {
   "name": "python3",
   "display_name": "Python 3.7.10 64-bit ('ai_study_py37': conda)",
   "metadata": {
    "interpreter": {
     "hash": "f78eab1048bbabc4fd5e9dcd73487ddda9cd2c49fb7aaed60f6a07d847182e48"
    }
   }
  }
 },
 "nbformat": 4,
 "nbformat_minor": 2,
 "cells": [
  {
   "cell_type": "code",
   "execution_count": 1,
   "metadata": {},
   "outputs": [],
   "source": [
    "import numpy as np\n",
    "import pandas as pd"
   ]
  },
  {
   "cell_type": "code",
   "execution_count": 2,
   "metadata": {},
   "outputs": [],
   "source": [
    "# jupyter\n",
    "train = pd.read_csv('./data01/train.csv/train.csv')\n",
    "test = pd.read_csv('./data01/test.csv/test.csv')\n",
    "submission = pd.read_csv('./data01/submission.csv')\n",
    "\n",
    "# # colab\n",
    "# from google.colab import drive\n",
    "# drive.mount('/content/drive')\n",
    "# train_df = pd.read_csv('/content/drive/MyDrive/kaggle-study/2/data01/train.csv/train.csv')\n",
    "# test_df = pd.read_csv('/content/drive/MyDrive/kaggle-study/2/data01/test.csv/test.csv')\n",
    "# submission_df = pd.read_csv('/content/drive/MyDrive/kaggle-study/2/data01/submission.csv')"
   ]
  },
  {
   "cell_type": "code",
   "execution_count": 3,
   "metadata": {},
   "outputs": [],
   "source": [
    "# Dropped all columns except 'store_id', 'date', 'amount'\n",
    "#\n",
    "# The major reason for this was that the data does not include any hints on the type(clothing, food, alcohol, etc)\n",
    "# of store and whether if the stores are similar types or not. Hence, removed them from both train & test.\n",
    "train = train.drop(columns=['time', 'installments', 'days_of_week', 'card_id', 'holyday'])\n",
    "test = test.drop(columns=['time', 'installments', 'days_of_week', 'card_id', 'holyday'])"
   ]
  },
  {
   "cell_type": "code",
   "execution_count": 4,
   "metadata": {},
   "outputs": [],
   "source": [
    "# Aggregated data into the sum of amount per each day, per store_id.\n",
    "train = train.groupby(['date', 'store_id']).agg({'amount':'sum'}).reset_index()\n",
    "test = test.groupby(['date', 'store_id']).agg({'amount':'sum'}).reset_index()"
   ]
  },
  {
   "cell_type": "code",
   "execution_count": 5,
   "metadata": {},
   "outputs": [
    {
     "output_type": "stream",
     "name": "stdout",
     "text": [
      "<class 'pandas.core.frame.DataFrame'>\nRangeIndex: 480160 entries, 0 to 480159\nData columns (total 3 columns):\n #   Column    Non-Null Count   Dtype \n---  ------    --------------   ----- \n 0   date      480160 non-null  object\n 1   store_id  480160 non-null  int64 \n 2   amount    480160 non-null  int64 \ndtypes: int64(2), object(1)\nmemory usage: 11.0+ MB\n"
     ]
    }
   ],
   "source": [
    "train.info()"
   ]
  },
  {
   "cell_type": "code",
   "execution_count": 6,
   "metadata": {},
   "outputs": [
    {
     "output_type": "execute_result",
     "data": {
      "text/plain": [
       "         date  store_id  amount\n",
       "0  2016-08-01         2    2372\n",
       "1  2016-08-01         6    1080\n",
       "2  2016-08-01         8    3650\n",
       "3  2016-08-01        12    1155\n",
       "4  2016-08-01        14    1270"
      ],
      "text/html": "<div>\n<style scoped>\n    .dataframe tbody tr th:only-of-type {\n        vertical-align: middle;\n    }\n\n    .dataframe tbody tr th {\n        vertical-align: top;\n    }\n\n    .dataframe thead th {\n        text-align: right;\n    }\n</style>\n<table border=\"1\" class=\"dataframe\">\n  <thead>\n    <tr style=\"text-align: right;\">\n      <th></th>\n      <th>date</th>\n      <th>store_id</th>\n      <th>amount</th>\n    </tr>\n  </thead>\n  <tbody>\n    <tr>\n      <th>0</th>\n      <td>2016-08-01</td>\n      <td>2</td>\n      <td>2372</td>\n    </tr>\n    <tr>\n      <th>1</th>\n      <td>2016-08-01</td>\n      <td>6</td>\n      <td>1080</td>\n    </tr>\n    <tr>\n      <th>2</th>\n      <td>2016-08-01</td>\n      <td>8</td>\n      <td>3650</td>\n    </tr>\n    <tr>\n      <th>3</th>\n      <td>2016-08-01</td>\n      <td>12</td>\n      <td>1155</td>\n    </tr>\n    <tr>\n      <th>4</th>\n      <td>2016-08-01</td>\n      <td>14</td>\n      <td>1270</td>\n    </tr>\n  </tbody>\n</table>\n</div>"
     },
     "metadata": {},
     "execution_count": 6
    }
   ],
   "source": [
    "train.head()"
   ]
  },
  {
   "cell_type": "code",
   "execution_count": null,
   "metadata": {},
   "outputs": [],
   "source": []
  }
 ]
}